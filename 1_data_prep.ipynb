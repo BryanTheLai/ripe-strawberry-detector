{
 "cells": [
  {
   "cell_type": "markdown",
   "id": "ce2824e1",
   "metadata": {},
   "source": [
    "1.  **Dataset Preparation**: Splitting and formatting our strawberry image data."
   ]
  },
  {
   "cell_type": "code",
   "execution_count": 1,
   "id": "99eb99f5",
   "metadata": {},
   "outputs": [],
   "source": [
    "import os\n",
    "import sys\n",
    "import cv2\n",
    "import matplotlib.pyplot as plt\n",
    "\n",
    "# Add src directory to path to import our custom modules\n",
    "sys.path.append(os.path.abspath('src'))\n",
    "\n",
    "# --- Configuration ---\n",
    "# Define all the paths we will need\n",
    "CWD = os.getcwd()\n",
    "XML_PATH = os.path.join(CWD, 'dataset', 'annotations.xml')\n",
    "IMAGES_DIR = os.path.join(CWD, 'dataset', 'images')\n",
    "YOLO_DATASET_DIR = os.path.join(CWD, 'strawberry_dataset')\n",
    "TEMPLATE_PATH = os.path.join(CWD, 'template', 'template.png')\n",
    "BASELINE_OUT = os.path.join(CWD, 'output', 'baseline_result.png')\n",
    "PRETRAINED_MODEL = 'yolo11s.pt'\n",
    "FINETUNED_OUT_DIR = os.path.join(CWD, 'output', 'finetuned_preds')\n",
    "PRETRAINED_OUT_DIR = os.path.join(CWD, 'output', 'pretrained_preds')\n",
    "\n",
    "# Ensure output directories exist\n",
    "os.makedirs('output', exist_ok=True)\n",
    "os.makedirs('template', exist_ok=True)"
   ]
  },
  {
   "cell_type": "markdown",
   "id": "2c3a6d7b",
   "metadata": {},
   "source": [
    "## 1. Data Preparation\n",
    "\n",
    "First, we need to prepare our dataset. The source data is a collection of images with a single XML file containing all annotations. We will split this into training and validation sets and convert the annotations to the YOLO `.txt` format that the model requires.\n",
    "\n",
    "Our `split_and_prepare` function in `src/yolo_utils.py` handles this entire process."
   ]
  },
  {
   "cell_type": "code",
   "execution_count": 2,
   "id": "8e2e7992",
   "metadata": {},
   "outputs": [
    {
     "name": "stdout",
     "output_type": "stream",
     "text": [
      "Splitting data and creating YOLO-formatted dataset...\n",
      "Dataset successfully created at: c:\\Users\\wbrya\\OneDrive\\Documents\\GitHub\\ripe-strawberry-detector\\strawberry_dataset\n"
     ]
    }
   ],
   "source": [
    "from yolo_utils import split_and_prepare\n",
    "\n",
    "print(\"Splitting data and creating YOLO-formatted dataset...\")\n",
    "split_and_prepare(XML_PATH, IMAGES_DIR, YOLO_DATASET_DIR)\n",
    "print(f\"Dataset successfully created at: {YOLO_DATASET_DIR}\")"
   ]
  }
 ],
 "metadata": {
  "kernelspec": {
   "display_name": ".venv",
   "language": "python",
   "name": "python3"
  },
  "language_info": {
   "codemirror_mode": {
    "name": "ipython",
    "version": 3
   },
   "file_extension": ".py",
   "mimetype": "text/x-python",
   "name": "python",
   "nbconvert_exporter": "python",
   "pygments_lexer": "ipython3",
   "version": "3.12.9"
  }
 },
 "nbformat": 4,
 "nbformat_minor": 5
}
